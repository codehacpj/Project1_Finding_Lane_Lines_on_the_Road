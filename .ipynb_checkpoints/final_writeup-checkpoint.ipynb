{
 "cells": [
  {
   "cell_type": "markdown",
   "metadata": {},
   "source": [
    "# Finding Lane Lines on the Road\n",
    "### Requirements: OpenCv and moviepy libraries\n",
    "### Language: Python3\n",
    "#### To Run the notebook(P1.ipynb) ipython-notebook would be required. \n",
    "\n",
    "\n",
    "#### Goal: To find the lanes of the road from example videos. [video1](test_videos/solidWhiteRight.mp4) and [video2](test_videos/solidYellowLeft.mp4) \n",
    "#### Example results: [Example_vid1](examples/P1_example.mp4) and [Example_vid2](examples/raw-lines-example.mp4)\n",
    "\n",
    "### Reflection:\n",
    "I worked through the project by building a Image processing pipeline which has following steps:\n",
    "1. Grayscale conversion:<br>\n",
    "2. Gaussian Blur<br>\n",
    "3. Canny Edge Detection<br>\n",
    "4. Finding the region of interest<br> \n",
    "5. Hough Transform to find the tracks<br>\n",
    "6. Extrapolating the points to find the most suitable line.<br>\n",
    "\n",
    "<p>\n",
    "\n",
    "For moving for from step 1 through 5, the course content was very helpful. Finally for step six, I modified the draw_lines() function.<p>\n",
    "    \n",
    "1. First of all the segments with slopes between -0.6 to -0.9 were considered for the left lane. And segments with slope between 0.45 to 0.75 were considered for the right lane. The average slope was calculated to deter mine the final slope for both.\n",
    "2. Average of points on left line segment gives the average point that left lane line passes through. Same for the right lane.\n",
    "3. Slope and average points are used to come up with the line in the region of interest for both lanes.\n",
    "\n",
    "### Identify potential shortcomings with your current pipeline:\n",
    "The constraints for the slopes in draw_lines() make the model less accurate as lots of the lines are not considered. \n",
    "\n",
    "###  Suggest possible improvements to your pipeline:\n",
    "The possible improvements could be making the bounds of the slopes to be more flexible. Extending the same project to find the best constraints for the curved paths could be another great improvement.\n",
    "\n",
    "### Results for the test images are presented below:\n",
    "\n",
    "![Result1](test_images_output/solidWhiteRight.jpgresult.jpg)\n",
    "![Result1](test_images_output/solidYellowCurve.jpgresult.jpg)\n",
    "![Result1](test_images_output/solidYellowCurve2.jpgresult.jpg)\n",
    "![Result1](test_images_output/solidYellowLeft.jpgresult.jpg)\n",
    "![Result1](test_images_output/whiteCarLaneSwitch.jpgresult.jpg)\n"
   ]
  }
 ],
 "metadata": {
  "kernelspec": {
   "display_name": "Python 3",
   "language": "python",
   "name": "python3"
  },
  "language_info": {
   "codemirror_mode": {
    "name": "ipython",
    "version": 3
   },
   "file_extension": ".py",
   "mimetype": "text/x-python",
   "name": "python",
   "nbconvert_exporter": "python",
   "pygments_lexer": "ipython3",
   "version": "3.6.6"
  }
 },
 "nbformat": 4,
 "nbformat_minor": 2
}
